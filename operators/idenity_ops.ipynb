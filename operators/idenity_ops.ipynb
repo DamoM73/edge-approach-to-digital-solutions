{
 "cells": [
  {
   "cell_type": "markdown",
   "metadata": {},
   "source": [
    "# Identity Operators Examples\n",
    "\n",
    "The 'is' operator will return 'True' if both variables are the same **object** rather than the same value. The `is not` operator is just the inverse of the `is` operator.\n",
    "\n",
    "The code below should highlight the difference."
   ]
  },
  {
   "cell_type": "code",
   "execution_count": null,
   "metadata": {},
   "outputs": [],
   "source": [
    "list_1 = []\n",
    "list_2 = []\n",
    "list_3 = list_1\n",
    " \n",
    "print(list_1 == list_2)\n",
    "print(list_1 is list_2)\n",
    "print(list_1 == list_3)\n",
    "print(list_1 is list_3)"
   ]
  },
  {
   "cell_type": "markdown",
   "metadata": {},
   "source": [
    "Although `list_1` and `list_2` are both empty list (ie. they have the same value) they are different objects (the variables point to different memory locations). \n",
    "\n",
    "`list_3` is assigned `list_1` which means it points to the same object."
   ]
  }
 ],
 "metadata": {
  "language_info": {
   "name": "python"
  },
  "orig_nbformat": 4
 },
 "nbformat": 4,
 "nbformat_minor": 2
}
