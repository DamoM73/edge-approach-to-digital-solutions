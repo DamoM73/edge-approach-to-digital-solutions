{
 "cells": [
  {
   "cell_type": "markdown",
   "metadata": {},
   "source": [
    "# Membership Operators Examples\n",
    "\n",
    "The `in` operator returns `True` if a sequence with the specified value is present in the object. The `not in` operator is the inverse of this."
   ]
  },
  {
   "cell_type": "code",
   "execution_count": null,
   "metadata": {},
   "outputs": [],
   "source": [
    "print(\"a\" in \"cat\")\n",
    "print(\"cat\" in [\"cat\", \"dog\", \"goat\"])\n",
    "print(\"a\" in [\"cat\", \"dog\", \"goat\"])\n",
    "print(1 in (34,14,1,5))"
   ]
  }
 ],
 "metadata": {
  "language_info": {
   "name": "python"
  },
  "orig_nbformat": 4
 },
 "nbformat": 4,
 "nbformat_minor": 2
}
