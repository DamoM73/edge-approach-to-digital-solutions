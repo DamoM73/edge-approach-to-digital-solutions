{
 "cells": [
  {
   "cell_type": "markdown",
   "metadata": {},
   "source": [
    "# Assignment Operators Examples"
   ]
  },
  {
   "cell_type": "markdown",
   "metadata": {},
   "source": [
    "## The `+=` operator\n",
    "\n",
    "Takes the variable, adds the value to it, and then reassigns the result to the variable. \n",
    "\n",
    "The same as using `num_1 = num_1 + 1`"
   ]
  },
  {
   "cell_type": "code",
   "execution_count": null,
   "metadata": {},
   "outputs": [],
   "source": [
    "num_1 = 5\n",
    "\n",
    "print(f\"Before: {num_1}\")\n",
    "\n",
    "num_1 += 1\n",
    "\n",
    "print(f\"After: {num_1}\")"
   ]
  },
  {
   "cell_type": "markdown",
   "metadata": {},
   "source": [
    "## The `-=` operator\n",
    "\n",
    "Takes the variable, subtracts the value from it, and then reassigns the result to the variable. \n",
    "\n",
    "The same as using `num_1 = num_1 - 1`"
   ]
  },
  {
   "cell_type": "code",
   "execution_count": null,
   "metadata": {},
   "outputs": [],
   "source": [
    "num_1 = 5\n",
    "\n",
    "print(f\"Before: {num_1}\")\n",
    "\n",
    "num_1 -= 1\n",
    "\n",
    "print(f\"After: {num_1}\")"
   ]
  },
  {
   "cell_type": "markdown",
   "metadata": {},
   "source": [
    "## The `*=` operator\n",
    "\n",
    "Takes the variable, multiplies it by the value, and then reassigns the result to the variable. \n",
    "\n",
    "The same as using `num_1 = num_1 * 2`"
   ]
  },
  {
   "cell_type": "code",
   "execution_count": null,
   "metadata": {},
   "outputs": [],
   "source": [
    "num_1 = 5\n",
    "\n",
    "print(f\"Before: {num_1}\")\n",
    "\n",
    "num_1 *= 2\n",
    "\n",
    "print(f\"After: {num_1}\")"
   ]
  },
  {
   "cell_type": "markdown",
   "metadata": {},
   "source": [
    "## The `/=` operator\n",
    "\n",
    "Takes the variable, divides it by the value, and then reassigns the result to the variable. \n",
    "\n",
    "The same as using `num_1 = num_1 / 2`"
   ]
  },
  {
   "cell_type": "code",
   "execution_count": null,
   "metadata": {},
   "outputs": [],
   "source": [
    "num_1 = 5\n",
    "\n",
    "print(f\"Before: {num_1}\")\n",
    "\n",
    "num_1 /= 2\n",
    "\n",
    "print(f\"After: {num_1}\")"
   ]
  },
  {
   "cell_type": "markdown",
   "metadata": {},
   "source": [
    "## The `%=` operator\n",
    "\n",
    "Takes the variable, performs a moduls operation on it using the value, and then reassigns the result to the variable. \n",
    "\n",
    "The same as using `num_1 = num_1 % 2`"
   ]
  },
  {
   "cell_type": "code",
   "execution_count": null,
   "metadata": {},
   "outputs": [],
   "source": [
    "num_1 = 5\n",
    "\n",
    "print(f\"Before: {num_1}\")\n",
    "\n",
    "num_1 %= 2\n",
    "\n",
    "print(f\"After: {num_1}\")"
   ]
  },
  {
   "cell_type": "markdown",
   "metadata": {},
   "source": [
    "## The `//=` operator\n",
    "\n",
    "Takes the variable, performs a floor division operation on it using the value, and then reassigns the result to the variable. \n",
    "\n",
    "The same as using `num_1 = num_1 // 2`"
   ]
  },
  {
   "cell_type": "code",
   "execution_count": null,
   "metadata": {},
   "outputs": [],
   "source": [
    "num_1 = 5\n",
    "\n",
    "print(f\"Before: {num_1}\")\n",
    "\n",
    "num_1 //= 2\n",
    "\n",
    "print(f\"After: {num_1}\")"
   ]
  },
  {
   "cell_type": "markdown",
   "metadata": {},
   "source": [
    "## The `**=` operator\n",
    "\n",
    "Takes the variable, raises it to the power of the value, and then reassigns the result to the variable. \n",
    "\n",
    "The same as using `num_1 = num_1 ** 2`"
   ]
  },
  {
   "cell_type": "code",
   "execution_count": null,
   "metadata": {},
   "outputs": [],
   "source": [
    "num_1 = 5\n",
    "\n",
    "print(f\"Before: {num_1}\")\n",
    "\n",
    "num_1 **= 2\n",
    "\n",
    "print(f\"After: {num_1}\")"
   ]
  }
 ],
 "metadata": {
  "kernelspec": {
   "display_name": "Python 3.10.0 64-bit",
   "language": "python",
   "name": "python3"
  },
  "language_info": {
   "name": "python",
   "version": "3.10.0"
  },
  "orig_nbformat": 4,
  "vscode": {
   "interpreter": {
    "hash": "1b80093ab4aa78722ff1f882125cc334bdcc6b197522c782576ece7d31d4d71a"
   }
  }
 },
 "nbformat": 4,
 "nbformat_minor": 2
}
