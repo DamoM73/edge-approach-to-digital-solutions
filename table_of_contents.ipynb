{
 "cells": [
  {
   "cell_type": "markdown",
   "metadata": {},
   "source": [
    "![Logo](./content/assets/edge_logo.png)"
   ]
  },
  {
   "cell_type": "markdown",
   "metadata": {},
   "source": [
    "# Table of Contents"
   ]
  },
  {
   "cell_type": "markdown",
   "metadata": {},
   "source": [
    "## Opening Material\n",
    "[Introduction](./content/0_opening_material/0_introduction.ipynb)  \n",
    "[Text Structure](./content/0_opening_material/1_text_structure.ipynb)  \n",
    "[Learning Scenario](./content/0_opening_material/2_learning_scenario.ipynb)  \n",
    "[Technology Used](./content/0_opening_material/3_technology_used.ipynb)"
   ]
  },
  {
   "cell_type": "markdown",
   "metadata": {},
   "source": [
    "## Explore Phase\n",
    "[Overview](./content/1_explore/0_explore.ipynb)  \n",
    "[Describe the Problem](./content/1_explore/1_describe_the_problem.ipynb)  \n",
    "[Determine Needs or Wants](./content/1_explore/2_determine_needs_or_wants.ipynb)  \n",
    "[Analyse the Problem](./content/1_explore/3_analyse_the_problem.ipynb)  \n",
    "[Select Impacts](./content/1_explore/4_select_impacts.ipynb)  \n",
    "[Identify Constraints](./content/1_explore/5_identify_constraints.ipynb)  \n",
    "[Identify Requirements](./content/1_explore/6_identifty_requirements.ipynb)  \n",
    "[Determine Criteria](./content/1_explore/7_determine_criteria.ipynb)"
   ]
  },
  {
   "cell_type": "markdown",
   "metadata": {},
   "source": [
    "## Develop Phase\n",
    "[Overview](./content/2_develop/0_develop.ipynb)  \n",
    "[Develop UI and UX](./content/2_develop/1_develop_ui_and_ux.ipynb)  \n",
    "[Develop Algorithms](./content/2_develop/2_develop_algorithms.ipynb)  \n",
    "[Develop Datastore](./content/2_develop/3_develop_datastore.ipynb)"
   ]
  },
  {
   "cell_type": "markdown",
   "metadata": {},
   "source": [
    "## Generate Phase\n",
    "[Overview](./content/3_generate/0_generate.ipynb)  \n",
    "[Select Development Environment](./content/3_generate/1_dev_even.ipynb)  \n",
    "[Generate Code](./content/3_generate/2_generate_code.ipynb)  \n",
    "[Clarify Code](./content/3_generate/3_clarify_code.ipynb)  \n",
    "[Test Code](./content/3_generate/4_test_code.ipynb)"
   ]
  },
  {
   "cell_type": "markdown",
   "metadata": {},
   "source": [
    "## Evaluate\n",
    "[Overview](./content/4_evaluate/0_evaluate.ipynb)  \n",
    "[Evaluate Components](./content/4_evaluate/1_evaluate_components.ipynb)  \n",
    "[Assess Impacts](./content/4_evaluate/2_assess_impacts.ipynb)\n",
    "[Evaluate Solution](./content/4_evaluate/3_evaluate_solutions.ipynb)"
   ]
  },
  {
   "cell_type": "markdown",
   "metadata": {},
   "source": [
    "## Throughout\n",
    "[Overview](./content/5_throughout/0_throughout.ipynb)  \n",
    "[Communicate](./content/5_throughout/1_communicate.ipynb)  \n",
    "[Use Project Conventions](./content/5_throughout/2_use_project_conventions.ipynb)  \n",
    "[Use Gramma and Language Structures](./content/5_throughout/3_use_gramma_and_lang.ipynb)  \n",
    "[Use Technical Language](./content/5_throughout/4_use_tech_lang.ipynb)  \n",
    "[Apply Referencing](./content/5_throughout/5_apply_referencing.ipynb)"
   ]
  },
  {
   "cell_type": "markdown",
   "metadata": {},
   "source": [
    "# End Material\n",
    "[Bibliogrphy](./content/6_end_material/bibliography.ipynb)"
   ]
  }
 ],
 "metadata": {
  "language_info": {
   "name": "python"
  },
  "orig_nbformat": 4
 },
 "nbformat": 4,
 "nbformat_minor": 2
}
