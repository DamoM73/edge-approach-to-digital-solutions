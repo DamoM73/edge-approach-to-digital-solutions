{
 "cells": [
  {
   "cell_type": "markdown",
   "metadata": {},
   "source": [
    "![Logo](./content/assets/edge_logo.png)"
   ]
  },
  {
   "cell_type": "markdown",
   "metadata": {},
   "source": [
    "# Table of Contents"
   ]
  },
  {
   "cell_type": "markdown",
   "metadata": {},
   "source": [
    "## Opening Material\n",
    "[Introduction](./content/0_opening_material/0_introduction.ipynb)  \n",
    "[Text Structure](./content/0_opening_material/1_text_structure.ipynb)  \n",
    "[Learning Scenario](./content/0_opening_material/2_learning_scenario.ipynb)  \n",
    "[Technology Used](./content/0_opening_material/3_technology_used.ipynb)"
   ]
  }
 ],
 "metadata": {
  "language_info": {
   "name": "python"
  },
  "orig_nbformat": 4
 },
 "nbformat": 4,
 "nbformat_minor": 2
}
