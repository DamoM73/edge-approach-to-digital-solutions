{
 "cells": [
  {
   "cell_type": "markdown",
   "metadata": {},
   "source": [
    "![Logo](./content/assets/edge_logo.png)"
   ]
  },
  {
   "cell_type": "markdown",
   "metadata": {},
   "source": [
    "# Table of Contents\n",
    "## Opening Material\n",
    "[Introduction](./content/0_introduction.ipynb)  \n",
    "[Text Structure](./content/0.1_text_structure.ipynb)  \n",
    "[Learning Scenario](./content/0.2_learning_scenario.ipynb)  \n",
    "[Technology Used](./content/0.3_technology_used.ipynb)"
   ]
  }
 ],
 "metadata": {
  "language_info": {
   "name": "python"
  },
  "orig_nbformat": 4
 },
 "nbformat": 4,
 "nbformat_minor": 2
}
