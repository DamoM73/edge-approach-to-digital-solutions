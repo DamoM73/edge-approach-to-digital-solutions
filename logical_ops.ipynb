{
 "cells": [
  {
   "cell_type": "markdown",
   "metadata": {},
   "source": [
    "# Logical Operators Examples\n",
    "\n",
    "Check the different permeations below by running the code"
   ]
  },
  {
   "cell_type": "code",
   "execution_count": null,
   "metadata": {},
   "outputs": [],
   "source": [
    "print(f\"True and True is {True and True}\")\n",
    "print(f\"True and False is {True and False}\")\n",
    "print(f\"False and True is {False and True}\")\n",
    "print(f\"False and False is {False and False}\")\n",
    "print(\"\")\n",
    "print(f\"True or True is {True or True}\")\n",
    "print(f\"True or False is {True or False}\")\n",
    "print(f\"False or True is {False or True}\")\n",
    "print(f\"False or False is {False or False}\")\n",
    "print(\"\")\n",
    "print(f\"Not True is {not True}\")\n",
    "print(f\"Not False is {not False}\")"
   ]
  },
  {
   "cell_type": "markdown",
   "metadata": {},
   "source": [
    "It is worth noting that in Python the default Truthiness of any object is `True`. This leads to a common mistake like the example below.\n",
    "\n",
    "In the code below, the condition `10 < 1` is `False` but second condition of `3` gives a `True`. `False or True` is `True` so the code prints `Hello`."
   ]
  },
  {
   "cell_type": "code",
   "execution_count": null,
   "metadata": {},
   "outputs": [],
   "source": [
    "if 10 < 1 or 3:\n",
    "    print(\"Hello\")"
   ]
  }
 ],
 "metadata": {
  "language_info": {
   "name": "python"
  },
  "orig_nbformat": 4
 },
 "nbformat": 4,
 "nbformat_minor": 2
}
