{
 "cells": [
  {
   "cell_type": "markdown",
   "metadata": {},
   "source": [
    "#### Division\n",
    "Division `/` will always give you a result as a `float`, even if the result is a whole number.\n",
    "\n",
    "Try this code:"
   ]
  },
  {
   "cell_type": "code",
   "execution_count": null,
   "metadata": {},
   "outputs": [],
   "source": [
    "print(10 / 2)\n",
    "print(10 / 4)"
   ]
  },
  {
   "cell_type": "markdown",
   "metadata": {},
   "source": [
    "### Floor division\n",
    "Floor division `//` will give you an `int` whole number component of a division calculation, even if the actual result is not whole numbers.\n",
    "\n",
    "Try this code:"
   ]
  },
  {
   "cell_type": "code",
   "execution_count": null,
   "metadata": {},
   "outputs": [],
   "source": [
    "print(10 // 2)\n",
    "print(10 // 4)"
   ]
  },
  {
   "cell_type": "markdown",
   "metadata": {},
   "source": [
    "### Modulus\n",
    "Modulus `%` will give you an `int` of the remainder component of a division calculation, even if the actual result is in whole numbers.\n",
    "\n",
    "Try this code:"
   ]
  },
  {
   "cell_type": "code",
   "execution_count": null,
   "metadata": {},
   "outputs": [],
   "source": [
    "print(10 % 2)\n",
    "print(10 % 4)"
   ]
  },
  {
   "cell_type": "markdown",
   "metadata": {},
   "source": [
    "Modulus can be confusing, but you use it all the time without thinking about it.\n",
    "\n",
    "For example, how many minutes and seconds in 140 secs?\n",
    "\n",
    "Try this code:"
   ]
  },
  {
   "cell_type": "code",
   "execution_count": null,
   "metadata": {},
   "outputs": [],
   "source": [
    "minutes = 140 // 60\n",
    "seconds = 140 % 60\n",
    "\n",
    "print(f\"{minutes} minutes and {seconds} seconds\")"
   ]
  },
  {
   "cell_type": "markdown",
   "metadata": {},
   "source": [
    "### Exponentiation\n",
    "Exponentiation is simply means 'to the power of'. So `2**2` is the same as saying two to the power of two, or two squared.\n",
    "\n",
    "Try this code:"
   ]
  },
  {
   "cell_type": "code",
   "execution_count": null,
   "metadata": {},
   "outputs": [],
   "source": [
    "# 2 squared is\n",
    "print(2**2)\n",
    "\n",
    "# 2 cubed is\n",
    "print(2**3) "
   ]
  }
 ],
 "metadata": {
  "language_info": {
   "name": "python"
  },
  "orig_nbformat": 4
 },
 "nbformat": 4,
 "nbformat_minor": 2
}
