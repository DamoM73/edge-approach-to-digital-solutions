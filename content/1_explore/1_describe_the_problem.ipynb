{
 "cells": [
  {
   "cell_type": "markdown",
   "metadata": {},
   "source": [
    "# Describe the Problem\n",
    "<span style=\"color:#669999\">\n",
    "\n",
    "**Tools used:**\n",
    "\n",
    "- mind maps\n",
    "\n",
    "</span>\n",
    "\n",
    "---\n",
    "Once we have established that the a digital solution is applicable to the problem, it is important to have a clear understanding of what the problem is.\n",
    "\n",
    "We use the project mind map to decompose the problem. Our first step is to describe the problem with a problem statement.\n",
    "\n",
    "![Problem statement](../assets/mm_problem_statement.png)\n",
    "\n",
    "## Content\n",
    "**[Unit 1](1.1_describe_the_problem.ipynb)**\n",
    "\n",
    "---\n",
    "<span style=\"color:#9999ff\">\n",
    "\n",
    "**Subject matter covered:**\n",
    "\n",
    "- Unit 1:\n",
    "  - understand the constituents of a digital problem\n",
    "- Unit 2:\n",
    "- understand the nature of data-driven problems\n",
    "- understand the difference between data, information and wisdom\n",
    "- understand that data-driven programming is typically applied to streams of structured data for filtering, transforming, aggregating (such as computing statistics), or calling other programs\n",
    "(QCAA, 2017)"
   ]
  },
  {
   "cell_type": "markdown",
   "metadata": {},
   "source": [
    "[Return to Explore](0_explore.ipynb)  \n",
    "[Return to Table of Contents](../../table_of_contents.ipynb)"
   ]
  }
 ],
 "metadata": {
  "language_info": {
   "name": "python"
  },
  "orig_nbformat": 4
 },
 "nbformat": 4,
 "nbformat_minor": 2
}
