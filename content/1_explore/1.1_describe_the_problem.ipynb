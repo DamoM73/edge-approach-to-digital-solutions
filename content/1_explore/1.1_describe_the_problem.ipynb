{
 "cells": [
  {
   "cell_type": "markdown",
   "metadata": {},
   "source": [
    "# Describing the Problem: Unit 1\n",
    "\n",
    "## What are digital problems?\n",
    "\n",
    "> Problem solving in technology-rich environments involves using digital technology, communication tools and networks to acquire and evaluate information, communicate with others and perform practical tasks. It requires the ability to solve problems for personal, social and economic purposes through the setting of appropriate goals and plans and by the accessing and making use of information through computers and computer networks. (PIAAC Expert Group in Problem Solving in Technology-Rich Environments, 2009)\n",
    "\n",
    "> Digital problems are therefore those problems that are solvable using information and communication technologies. These digital solutions can use a wide variety of developed and developing contexts such as web applications, mobile applications, interactive media and intelligent systems. (Digital Technologies Hub, 2017)\n",
    "\n",
    "What distinguishes a digital problem is that the solution consists of digital hardware and software working together to form a digital system.\n",
    "\n",
    "![IPO](../assets/IPO.png)\n",
    "\n",
    "In a digital system:\n",
    "- data goes in (input)\n",
    "- data is manipulated (process)\n",
    "- data is sent out (output)\n",
    "\n",
    "---\n",
    "## Scope\n",
    "The scope of the project provides detail about how the solution will address the problem and what types of things will be produced or delivered. The scope defines the boundaries of the system (or problem) that is being addressed.\n",
    "\n",
    "The scope includes:\n",
    "- **Problem Statement** - The problem statement is an overall descriptive statement about what needs to be solved. It includes a justification for the project (explains why is it being undertaken in the first place).\n",
    "- **Objectives** - These are the overall project goals that will meet the needs of your customers.\n",
    "- **Deliverables** - The deliverables are the objects are that need to be produced. \n",
    "- **Constraints and Limitations** - What are the barriers or things that must be adhered to? These are the requirement specifications for the project.\n",
    "- **Timeline** - How long the project will run for and any specific milestones or checkpoints along the way.\n",
    "\n",
    "We will deal with each of these in coming sections, but let's start with the Problem Statement.\n",
    "\n",
    "### Problem Statement\n",
    "> A problem statement is a concise and unbiased description of the problem or issues a process improvement project seeks to address. (Indeed Editorial Team, 2021)\n",
    "\n",
    "Use this step-by-step guide to craft your problem statement:\n",
    "- **Identify the problem:** Before you write your problem statement, you must first identify the problem.\n",
    "- **Begin your statement with your ideal situation:** Next, your problem statement should identify the ideal environment if the problem didn't exist.\n",
    "- **Describe the current gaps:** Concisely identify what the current environment looks like and then focus on the 5Ws and H:\n",
    "  - **who** does the problem affect?\n",
    "  - **what** is causing the problem?\n",
    "  - **where** where does the problem occurs? Is it location specific?\n",
    "  - **when** does the problem occurs? **When** did it became a problem? Is it time specific?\n",
    "  - **why** is it a problem? **Why** must it be resolve?\n",
    "  - **how** much of an impact does the problem have on individuals or groups?\n",
    "- **State the consequences of the problem:** Highlight and quantify the consequences of the problem. \n",
    "- **Propose addressing the problem:** Identify how you will make progress towards reaching the desired goal.\n",
    "\n",
    "![problem statement](../assets/mm_problem_statement.png)\n",
    "\n",
    "The answers to these questions are added to the project mind map."
   ]
  }
 ],
 "metadata": {
  "language_info": {
   "name": "python"
  },
  "orig_nbformat": 4
 },
 "nbformat": 4,
 "nbformat_minor": 2
}
