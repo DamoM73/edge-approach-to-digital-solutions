{
 "cells": [
  {
   "cell_type": "markdown",
   "metadata": {},
   "source": [
    "# Explore Overview\n",
    "\n",
    "<span style=\"color:#669999\">\n",
    "\n",
    "**Tools used to complete the Explore phase:**\n",
    "\n",
    "- Mind Maps\n",
    "- Empathy Maps  \n",
    "- Personas  \n",
    "- Use Case Diagrams  \n",
    "- Requirement Tables  \n",
    "- Criteria Tables\n",
    "  \n",
    "</span>\n",
    "\n",
    "---\n",
    "## Overview\n",
    "> The explore phase involves students investigating a need, want or opportunity to analyse and understand a digital problem and its relationship to existing solutions (QCAA, 2017)\n",
    "\n",
    "To complete the Explore phase of the EDGE problem solving processes we will work through seven steps.\n",
    "1. Describe the problem\n",
    "2. Determine human needs or wants\n",
    "3. Analyse the problem\n",
    "4. Select impacts\n",
    "5. Identify constraints\n",
    "6. Identify requirements\n",
    "7. Determine criteria\n",
    "\n",
    "---\n",
    "<span style=\"color:#9999ff\">\n",
    "\n",
    "**Curriculum content addressed**\n",
    "\n",
    "To explore the problem, students:\n",
    "\n",
    "- describe problems from a user perspective\n",
    "- recognise constraints\n",
    "- use decomposition to dissect problems and existing solutions to similar problems\n",
    "- use abstraction and pattern recognition to identify essential features of elements, components, relationships and structures of problems\n",
    "- analyse problems, solutions and information to make decisions about the reasonableness of information and the structure, availability and accuracy of existing problems and solutions\n",
    "- use systems thinking to identify and understand the relationships between users, solutions and the components of solutions in similar problems\n",
    "- identify and understand possible solution requirements, such as information, skills and tools, by considering elements, components and features, and their relationship to the structure of the problem\n",
    "- use design, systems and computational (decomposition, pattern recognition and abstraction) thinking processes to determine evaluation criteria that are used to appraise and make decisions throughout, and at the end of, the problem-solving process in Digital Solutions. Evaluation criteria are prescribed by the teacher or client (prescribed criteria) or determined by the student (self-determined criteria) and must include criteria to evaluate the personal, social and economic impacts, and quality, appropriateness and effectiveness of the developed component or solution\n",
    "- use design thinking to evaluate ideas that best meet the evaluation criteria. (QCAA, 2017)\n",
    "\n",
    "</span>"
   ]
  },
  {
   "cell_type": "markdown",
   "metadata": {},
   "source": [
    "[Return to Table of Contents](../../table_of_contents.ipynb)"
   ]
  }
 ],
 "metadata": {
  "language_info": {
   "name": "python"
  },
  "orig_nbformat": 4
 },
 "nbformat": 4,
 "nbformat_minor": 2
}
