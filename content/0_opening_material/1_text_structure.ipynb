{
 "cells": [
  {
   "cell_type": "markdown",
   "metadata": {},
   "source": [
    "# Text Structure\n",
    "In this text students will learn the Digital Solutions content, through the application of the EDGE processes. The process has been broken down into sub-phases. Students will navigate these phases for each of the four units, applying the process to a sample problem and developing the required skills, whilst learning the content."
   ]
  },
  {
   "cell_type": "markdown",
   "metadata": {},
   "source": [
    "---\n",
    "## Digital Solutions Context\n",
    "The Digital Solutions Technology context we will be using for this text is Interactive Media."
   ]
  },
  {
   "cell_type": "markdown",
   "metadata": {},
   "source": [
    "---\n",
    "## Digital Solutions Units\n",
    "\n",
    "### Unit 1: Creating with code\n",
    "> In Unit 1, students will explore the creative and technical aspects of developing interactive digital solutions. They investigate algorithms, programming features and useability principles to generate small interactive solutions using programming tools and gain a practical understanding of programming features. This allows them the opportunity to explore existing and developing trends involving digital technologies (QCAA, 2017). \n",
    "\n",
    "### Unit 2: Application and data solutions\n",
    "> Unit 2, students are required to engage with and learn subject matter through the use of the various phases of the problem-solving process in Digital Solutions. Students will optimise a given database and use programming skills acquired in Unit 1 to write procedural text-based code to generate a solution that interacts with an existing database via structured query language (SQL). Students will plan, develop and generate the interface and code to enable the user to insert, update, retrieve and delete data using an existing database via SQL. Prior to inserting the data, the system will validate the data being entered to ensure its integrity and reliability for use and storage. Retrieved data will be displayed to the user in an appropriate format, such as text or a symbolic visual form (QCAA, 2017).\n",
    "\n",
    "> Students are required to understand the structure of a database, along with how primary and foreign keys and data types affect the performance of the database. Students will evaluate the security, privacy and ethical effects of storing data in databases from individual, organisational and government perspectives (QCAA, 2017).\n",
    "\n",
    "### Unit 3: Digital innovation\n",
    "> In Unit 3, students are required to engage with and learn subject matter through the use of the various phases of the problem-solving process in Digital Solutions. Students analyse the requirements of particular groups of people, and use knowledge and skills of problem-solving, computational, design and systems thinking. They will determine data requirements and use available resources to create prototyped digital solutions by programming and developing user interfaces to improve user experiences (QCAA, 2017).\n",
    "\n",
    "### Unit 4: Digital impacts\n",
    "> In Unit 4, students learn how data is shared in both local and global contexts, particularly how digital solutions are increasingly required to exchange data securely and efficiently. Students will understand elements of cybersecurity by exploring the conditions, environment and methods for enabling data to flow between different digital systems. They will analyse data privacy and data integrity risks associated with transferring data between applications and evaluate the personal, social and economic impacts associated with the use and availability of both public and private data. Students will develop an application that simulates the exchange of data between two applications (QCAA, 2017)."
   ]
  },
  {
   "cell_type": "markdown",
   "metadata": {},
   "source": [
    "---\n",
    "## EDGE Phases\n",
    "Below are the four phases, and their sub-phases, as used by this text. There is an additional phase which addresses syllabus content that is used throughout the EDGE process.\n",
    "\n",
    "### Explore\n",
    "- Describe the problem\n",
    "- Determine human needs or wants\n",
    "- Analyse the problem\n",
    "- Select Impacts\n",
    "- Identify Constraints\n",
    "- Identify Requirements\n",
    "- Determine Criteria\n",
    "\n",
    "### Develop\n",
    "- Develop UI and UX\n",
    "- Develop Algorithms\n",
    "- Develop Data Source\n",
    "\n",
    "### Generate\n",
    "- Select Development Environment\n",
    "- Generate Code\n",
    "- Clarify Code\n",
    "- Test Code\n",
    "\n",
    "### Evaluate\n",
    "- Evaluate Components\n",
    "- Assess Impacts\n",
    "- Evaluate Solution\n",
    "\n",
    "### Throughout\n",
    "- Communicate\n",
    "- Use Project Conventions\n",
    "- Use Gramma and Language Structures\n",
    "- Use Technical Language\n",
    "- Apply Referencing"
   ]
  },
  {
   "cell_type": "markdown",
   "metadata": {},
   "source": [
    "[Return to Table of contents](../../table_of_contents.ipynb)"
   ]
  }
 ],
 "metadata": {
  "language_info": {
   "name": "python"
  },
  "orig_nbformat": 4
 },
 "nbformat": 4,
 "nbformat_minor": 2
}
