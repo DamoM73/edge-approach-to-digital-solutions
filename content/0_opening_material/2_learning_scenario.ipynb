{
 "cells": [
  {
   "cell_type": "markdown",
   "metadata": {},
   "source": [
    "# Learning Scenario\n",
    "We will use a scenario to assist in learning the content of this text. This scenario will develop as we move through the text, evolving to present new issues relevant to the context of each unit. Each subsequent scenario builds upon the previous scenarios, allow for students to use the tools and work they have previously developed."
   ]
  },
  {
   "cell_type": "markdown",
   "metadata": {},
   "source": [
    "---\n",
    "## Unit 1 Scenario\n",
    "Meet Mikey. Mikey is a 30 year-old guy who rents an inner city unit and works in customer support. Mikey in an introvert, and he finds that by the end of his day, he is \"all talked out\". He's rarely in the mood for socialising, and just wants to \"decompress\" at home. \n",
    "\n",
    "On a recent camping trip Mikey rediscovered hangman. Sure, he played the game at school, but he never realised how much he enjoyed playing it. He would love nothing more than coming home each day and playing hangman to relax, but that would involve interacting with people. Mikey is looking for a way to play hangman by himself.\n",
    "\n",
    "Mikey is concerned that if he had hangman on his phone, that he would play it at work. Therefore he is looking for a solution that would only reside on his laptop. He knows that he can buy a hangman game, but he cannot afford it."
   ]
  },
  {
   "cell_type": "markdown",
   "metadata": {},
   "source": [
    "---\n",
    "## Unit 2 Scenario\n",
    "Mikey unit 2 TBC"
   ]
  },
  {
   "cell_type": "markdown",
   "metadata": {},
   "source": [
    "---\n",
    "## Unit 3 Scenario\n",
    "Mikey unit 3 TBC"
   ]
  },
  {
   "cell_type": "markdown",
   "metadata": {},
   "source": [
    "---\n",
    "## Unit 4 Scenario\n",
    "Mikey unit 4 TBC"
   ]
  },
  {
   "cell_type": "markdown",
   "metadata": {},
   "source": [
    "[Return to Table of contents](../../table_of_contents.ipynb)"
   ]
  }
 ],
 "metadata": {
  "language_info": {
   "name": "python"
  },
  "orig_nbformat": 4
 },
 "nbformat": 4,
 "nbformat_minor": 2
}
