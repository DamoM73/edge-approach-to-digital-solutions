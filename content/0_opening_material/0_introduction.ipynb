{
 "cells": [
  {
   "cell_type": "markdown",
   "metadata": {},
   "source": [
    "# Introduction"
   ]
  },
  {
   "cell_type": "markdown",
   "metadata": {},
   "source": [
    "Digital Solutions is a subject that implements a problem-based learning framework.\n",
    "\n",
    "![PBL](./assests/PBL.png)\n",
    "\n",
    "> Central to problem-based learning is the provision or identification of suitably challenging, subject-specific, context-relevant, real-world problems. Student engagement with these problems facilitates student learning of Digital Solutions subject matter {cite}`queenslandcurriculumassessmentauthority_2017_digital`.\n",
    "\n",
    "To engage in these problems Digital solutions prescribes a specific problem-solving process - EDGE (Explore, Develop, Generate and Evaluate).\n",
    "\n",
    "> The process is iterative, proceeds through a number of phases, requiring students to explore problems, develop ideas, generate components and digital solutions, and evaluate personal, social and economic impacts, components and digital solutions {cite}`queenslandcurriculumassessmentauthority_2017_digital`.\n",
    "\n",
    "![EDGE Process](./assests/EDGE.png)"
   ]
  },
  {
   "cell_type": "markdown",
   "metadata": {},
   "source": [
    "[Return to Table of contents](../../table_of_contents.ipynb)"
   ]
  }
 ],
 "metadata": {
  "language_info": {
   "name": "python"
  },
  "orig_nbformat": 4
 },
 "nbformat": 4,
 "nbformat_minor": 2
}
