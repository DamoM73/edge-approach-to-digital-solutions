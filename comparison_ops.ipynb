{
 "cells": [
  {
   "cell_type": "markdown",
   "metadata": {},
   "source": [
    "# Comparison Operators Examples"
   ]
  },
  {
   "cell_type": "markdown",
   "metadata": {},
   "source": [
    "## The `==` operator\n",
    "\n",
    "The `==` (is equal to) operator compares the value or equality of two objects and returns `True` if they are the same."
   ]
  },
  {
   "cell_type": "code",
   "execution_count": null,
   "metadata": {},
   "outputs": [],
   "source": [
    "name = \"Damien\"\n",
    "num = 4\n",
    "\n",
    "print(4 == 4)\n",
    "print(\"4\" == 4)\n",
    "print(num == 4)\n",
    "print(name == \"Damien\")\n",
    "print(2**2 == 4)\n",
    "print(2**2 == num)"
   ]
  },
  {
   "cell_type": "markdown",
   "metadata": {},
   "source": [
    "## The `!=` operator\n",
    "\n",
    "The `!=` (is not equal to) operator compares the value of two objects and returns `True` if they are not the same."
   ]
  },
  {
   "cell_type": "code",
   "execution_count": null,
   "metadata": {},
   "outputs": [],
   "source": [
    "name = \"Damien\"\n",
    "num = 4\n",
    "\n",
    "print(4 != 4)\n",
    "print(\"4\" != 4)\n",
    "print(num != 4)\n",
    "print(name != \"Damien\")\n",
    "print(2**2 != 4)\n",
    "print(2**2 != num)"
   ]
  },
  {
   "cell_type": "markdown",
   "metadata": {},
   "source": [
    "## The `>` and `>=` operators\n",
    "\n",
    "The `>` (greater than) operator compares the value of two objects and returns `True` if the first object is larger than the second object.\n",
    "\n",
    "The `>=` (greater than or equal to) operator compares the value of two objects and returns `True` if the first object is larger than or equal to the second object."
   ]
  },
  {
   "cell_type": "code",
   "execution_count": null,
   "metadata": {},
   "outputs": [],
   "source": [
    "name = \"Damien\"\n",
    "num = 4\n",
    "\n",
    "print(10 > 4)\n",
    "print(4 >= 4)\n",
    "print(5 > num)\n",
    "print(10 >= num)\n",
    "print(\"a\" > \"z\")\n",
    "print(name > \"cat\")\n",
    "print(name >= \"Damien\")"
   ]
  },
  {
   "cell_type": "markdown",
   "metadata": {},
   "source": [
    "## The `<` and `<=` operators\n",
    "\n",
    "The `<` (less than) operator compares the value of two objects and returns `True` if the first object is less than the second object.\n",
    "\n",
    "The `<=` (greater than or equal to) operator compares the value of two objects and returns `True` if the first object is less than or equal to the second object."
   ]
  },
  {
   "cell_type": "code",
   "execution_count": null,
   "metadata": {},
   "outputs": [],
   "source": [
    "name = \"Damien\"\n",
    "num = 4\n",
    "\n",
    "print(10 < 4)\n",
    "print(4 <= 4)\n",
    "print(5 < num)\n",
    "print(10 <= num)\n",
    "print(\"a\" < \"z\")\n",
    "print(name < \"cat\")\n",
    "print(name <= \"Damien\")"
   ]
  }
 ],
 "metadata": {
  "language_info": {
   "name": "python"
  },
  "orig_nbformat": 4
 },
 "nbformat": 4,
 "nbformat_minor": 2
}
