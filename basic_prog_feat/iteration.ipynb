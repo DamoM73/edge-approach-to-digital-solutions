{
 "cells": [
  {
   "cell_type": "markdown",
   "metadata": {},
   "source": [
    "# Iteration\n",
    "\n",
    "Iteration refers to the repetition of a number of instructions. These are generally referred to as loops. Loops are a section of code that is repeated. \n",
    "\n",
    "There are two different types of loops:\n",
    "- definite loops\n",
    "- indefinite loops\n",
    "\n",
    "---\n",
    "## Definite Loops\n",
    "\n",
    "Definite loops are loops where, before entering the loop, you know how many times the loops needs to repeat. Think of walking up stairs. At the bottom of a set of stairs you know how many steps you need to take to get to the top. This number will depend on the specific set of stairs, but you will know how many steps before you start. \n",
    "\n",
    "Definite loops are also called count-control loops as they have a variable which keeps count of the number of time the loop is repeated. The code in the loop will be repeated until the count reaches the target. In most programming language this is called a `for` loop. A general for loop syntax would be:\n",
    "\n",
    "```\n",
    "for count = 1 to 10\n",
    "    the code that needs to be repeated\n",
    "next count\n",
    "```\n",
    "\n",
    "The value of `count` starts at 1 and increases each time the loop repeats. When `count` reaches 10, the loop exits (stops repeating) and the program continues on.\n",
    "\n",
    "### In Python\n",
    "\n",
    "`for` loops work slightly differently. Rather than the `count` variable increasing at each repetition, it moves along a list of values until it gets to the end. run the code below to see an example of how for loops work in Python:"
   ]
  },
  {
   "cell_type": "code",
   "execution_count": null,
   "metadata": {},
   "outputs": [],
   "source": [
    "for count in [1,2,3,4,5,6,7,8,9,10]:\n",
    "    print(count)"
   ]
  },
  {
   "cell_type": "markdown",
   "metadata": {},
   "source": [
    "The values between `[` and `]` are called a list. We'll learn more about them later.\n",
    "\n",
    "`count` started at `1` and then moved to the next value `2` then `3` and so on until it reached the last number `10`. Then it exited the loop. It's important to note that count wasn't counting up, but rather it was just moving to the next value. \n",
    "\n",
    "To show this, run the code below:"
   ]
  },
  {
   "cell_type": "code",
   "execution_count": null,
   "metadata": {},
   "outputs": [],
   "source": [
    "for count in [2,10,1,7,3,5,9,8,6,4]:\n",
    "    print(count)"
   ]
  },
  {
   "cell_type": "markdown",
   "metadata": {},
   "source": [
    "This makes Python `for` loops quite flexible, since lists can contain more than just numbers. \n",
    "\n",
    "Try this code:"
   ]
  },
  {
   "cell_type": "code",
   "execution_count": null,
   "metadata": {},
   "outputs": [],
   "source": [
    "for day in [\"Mon\", \"Tues\", \"Wed\", \"Thurs\", \"Fri\", \"Sat\", \"Sun\"]:\n",
    "    print(day)"
   ]
  },
  {
   "cell_type": "markdown",
   "metadata": {},
   "source": [
    "Notice that the variable, formerly `count`, is called `day`. The variable can be named anything, so it is best to give it a name that makes sense. Also notice that the `for` statement ends with a `:`.\n",
    "\n",
    "## Indefinite Loops\n",
    "\n",
    "Indefinite loops are loops where you don't know how many times they will be repeated. Think of eating dinner. Before eating dinner you have no idea how many mouthful you are going to eat. Instead you eat until the food is finished.\n",
    "\n",
    "Indefinite loops are also called condition-controlled loops. This means that they loop as long as a condition is `True`. In our eating diner example, the condition is whether there is food. If there is food, you will continue to eat. There are two types of indefinite loops:\n",
    "- `while` loops\n",
    "- `repeat` loops\n",
    "\n",
    "`while` loops test the condition before executing the looped code, then check the condition again. If the condition is still `True` then it will run the loop code again. It will keep doing this until the condition is `False` then it will exit the loop. \n",
    "\n",
    "The general syntax for a `while` loop is:\n",
    "\n",
    "```\n",
    "while condition\n",
    "    the code that will be repeated\n",
    "end while\n",
    "```\n",
    "\n",
    "`repeat` loops execute the looped code once, then tests the condition. If the condition is `True` it will run the loop code again, followed by another condition test. This also continues until the condition is `False`. \n",
    "\n",
    "The genreal syntax for a `repeat` loop is:\n",
    "\n",
    "```\n",
    "repeat\n",
    "    the code that will be repeated\n",
    "until condition\n",
    "```\n",
    "\n",
    "The main difference between a `while` loop and a `repeat` loop is that a `repeat` loop always runs the looped code at least once, whilst a `while` loop can skip the looped code completely if the condition is `False`.\n",
    "\n",
    "Note: since it is possible for the condition to always be `True`, indefinite loops can actually be infinite, that is, run forever. This can be useful for some programming purposes, but can also cause your program to lockup if not intended.\n",
    "\n",
    "### In Python\n",
    "\n",
    "There is only `while` loops. The code below is an example of a `while` loop in Python."
   ]
  },
  {
   "cell_type": "code",
   "execution_count": null,
   "metadata": {},
   "outputs": [],
   "source": [
    "response = 0\n",
    "while response <= 10:\n",
    "    response = int(input(\"Enter a nubmer greater than 10> \"))\n",
    "    print(\"No silly, GREATER than 10\")"
   ]
  }
 ],
 "metadata": {
  "language_info": {
   "name": "python"
  },
  "orig_nbformat": 4
 },
 "nbformat": 4,
 "nbformat_minor": 2
}
