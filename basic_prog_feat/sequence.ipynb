{
 "cells": [
  {
   "cell_type": "markdown",
   "metadata": {},
   "source": [
    "# Sequence\n",
    "\n",
    "A sequence is a number of instructions that are processed one after the other. For example, a very simple algorithm for brushing teeth might consist of these steps:\n",
    "1. put toothpaste on toothbrush\n",
    "2. use toothbrush to clean teeth\n",
    "3. rinse toothbrush\n",
    "\n",
    "Each step is an instruction to be performed. Sequencing is the order in which the steps are carried out.\n",
    "\n",
    "---\n",
    "## Why is sequencing important?\n",
    "\n",
    "It is crucial that the steps in an algorithm are performed in the right order - otherwise the algorithm will not work correctly. Suppose the steps for the teeth-cleaning algorithm were in this sequence:\n",
    "1. use toothbrush to clean teeth\n",
    "2. put toothpaste on toothbrush\n",
    "3. rinse toothbrush\n",
    "\n",
    "A toothbrush would still be used to clean the teeth and toothpaste would still be put on the brush. But because steps 1 and 2 are in the wrong sequence the teeth wouldn't get cleaned with the toothpaste, and the toothpaste would be wasted. A human would realise they had forgotten to add toothpaste at the start of the process, but a computer would not know that anything was wrong. A computer can only do what it is programmed to do. **If the steps are programmed in the wrong sequence, the computer will perform the tasks in this sequence – even if this is incorrect**.\n",
    "\n",
    "---\n",
    "## In Python\n",
    "\n",
    "Sequences occur within the same block of code. Put another way, sequences are the default and will occur unless an indent is present. Read the comments in the code below to identify the sequences."
   ]
  },
  {
   "cell_type": "code",
   "execution_count": null,
   "metadata": {},
   "outputs": [],
   "source": [
    "# the code below is a sequence\n",
    "user_num = int(input(\"Enter a number> \"))\n",
    "new_num = user_num ** 2\n",
    "\n",
    "if new_num > 100:\n",
    "    # this indent indicates a new block. \n",
    "    # Within the block the code runs in sequence\n",
    "    print(f\"The original number was {user_num}\")\n",
    "    print(f\"The square of {user_num} is more than 100\")\n",
    "else:\n",
    "    # this indent indicates a new block. \n",
    "    # Within the block the code runs in sequence\n",
    "    print(f\"The original number was {user_num}\")\n",
    "    print(f\"The square of {user_num} is not more than 100\")"
   ]
  }
 ],
 "metadata": {
  "language_info": {
   "name": "python"
  },
  "orig_nbformat": 4
 },
 "nbformat": 4,
 "nbformat_minor": 2
}
