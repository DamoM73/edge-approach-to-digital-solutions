{
 "cells": [
  {
   "cell_type": "markdown",
   "metadata": {},
   "source": [
    "# Selection\n",
    "\n",
    "A selection statement uses a condition to select, or determine, the next line of the program that is to be executed. These statements help to make decisions and change the flow of a program. \n",
    "\n",
    "## In Python\n",
    "\n",
    "In Python, there are four types of selection statements:\n",
    "\n",
    "```\n",
    "if\n",
    "\n",
    "if...else\n",
    "\n",
    "if...elif...else\n",
    "\n",
    "match\n",
    "```\n",
    "\n",
    "### If Statements\n",
    "\n",
    "`if` `if...else` and `if...elif...else` are all considered if statements. \n",
    "\n",
    "It is important to note an if statement:\n",
    "- has to have one, and only one `if`\n",
    "- can have an unlimited number of `elif` (including none)\n",
    "- can have no, or one `else`\n",
    "- each `if` `if...else` and `if...elif...else` line terminates with a `:`\n",
    "\n",
    "The syntax of an `if` statement:\n",
    "\n",
    "```\n",
    "if condition:\n",
    "    block of code that runs \n",
    "    when the condition is true\n",
    "```"
   ]
  },
  {
   "cell_type": "code",
   "execution_count": null,
   "metadata": {},
   "outputs": [],
   "source": [
    "a = 1\n",
    "b = 10\n",
    "\n",
    "if a < b:\n",
    "    print(\"a is less than b\")"
   ]
  },
  {
   "cell_type": "markdown",
   "metadata": {},
   "source": [
    "### If...Else Statements\n",
    "\n",
    "The syntax of an `if...else` statement:\n",
    "\n",
    "```\n",
    "if condition:\n",
    "    block of code that runs \n",
    "    when the condition is True\n",
    "else:\n",
    "    block of code that runs\n",
    "    when the condition is not True\n",
    "```"
   ]
  },
  {
   "cell_type": "code",
   "execution_count": null,
   "metadata": {},
   "outputs": [],
   "source": [
    "a = 1\n",
    "b = 10\n",
    "\n",
    "if a > b:\n",
    "    print(\"a is greater than b\")\n",
    "else:\n",
    "    print(\"a is not greater than b\")"
   ]
  },
  {
   "cell_type": "markdown",
   "metadata": {},
   "source": [
    "### If...Elif...Statements\n",
    "\n",
    "The syntax of an `if...elif...else` statement:\n",
    "```\n",
    "if condition_a:\n",
    "    block of code that runs \n",
    "    when the condition_a is true\n",
    "elif condition_b:\n",
    "    block of code that runs \n",
    "    when the condition_b is true\n",
    "else:\n",
    "    block of code that runs\n",
    "    when condition_a and \n",
    "    condition_b are not True\n",
    "```"
   ]
  },
  {
   "cell_type": "code",
   "execution_count": null,
   "metadata": {},
   "outputs": [],
   "source": [
    "a = 6\n",
    "b = 7\n",
    "c = 11\n",
    "\n",
    "if a > b:\n",
    "    print(\"a is greater than b\")\n",
    "elif b > c:\n",
    "    print(\"b is greater than c\")\n",
    "elif a + b > c:\n",
    "    print(\"a plus b is greater than c\")\n",
    "else:\n",
    "    print(\"c rules them all\")    "
   ]
  },
  {
   "cell_type": "markdown",
   "metadata": {},
   "source": [
    "### Structural Pattern Matching\n",
    "\n",
    "Python's structural pattern matching (`match` statement) was introduced in Python 3.10. At the simplest level it is a switch statement which can take the place of a `if...elif...else` statement.\n",
    "\n",
    "The syntax of a `match` statement is:\n",
    "\n",
    "```\n",
    "match <variable>:\n",
    "    case <value_1>:\n",
    "        block that will run if variable == value_1\n",
    "    case <value_2>:\n",
    "        block that will run if variable == value_2\n",
    "    case <value_3>:\n",
    "        block that will run if variable == value_3\n",
    "    case <value_4>:\n",
    "        block that will run if variable == value_4\n",
    "    case _:\n",
    "        block that will run if variable doesn't match any of the values.\n",
    "```"
   ]
  },
  {
   "cell_type": "code",
   "execution_count": null,
   "metadata": {},
   "outputs": [],
   "source": [
    "weekday_num = int(input(\"Enter the weekday number (1-7)> \"))\n",
    "\n",
    "match weekday_num:\n",
    "    case 1:\n",
    "        print(\"Monday\")\n",
    "    case 2:\n",
    "        print(\"Tuesday\")\n",
    "    case 3:\n",
    "        print(\"Wednesday\")\n",
    "    case 4:\n",
    "        print(\"Thursday\")\n",
    "    case 5:\n",
    "        print(\"Friday\")\n",
    "    case 6:\n",
    "        print(\"Saturday\")\n",
    "    case 7:\n",
    "        print(\"Saturday\")\n",
    "    case _:\n",
    "        print(\"Invalid. weekday_num should be an integer between 1 and 7\")"
   ]
  }
 ],
 "metadata": {
  "language_info": {
   "name": "python"
  },
  "orig_nbformat": 4
 },
 "nbformat": 4,
 "nbformat_minor": 2
}
