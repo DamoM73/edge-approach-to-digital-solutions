{
 "cells": [
  {
   "cell_type": "markdown",
   "metadata": {},
   "source": [
    "# Variable Assignment\n",
    "Assignment is used to store the value of an expression into a variable. \n",
    "\n",
    "A variable is a label that a computer uses to remember certain values or pieces of information. They are similiar to the variables that you would have seen in maths e.g. x=5. In programming, this is exactly the same idea, except computers can remember anything not just numbers, and additionally, the variables are generally given more meaningful names that relate to the data they contain e.g. \n",
    "\n",
    "`student_name = \"Tom\"`\n",
    "\n",
    "Assignment is the way that a variable is told to remember a certain value. \n",
    "\n",
    "## In Python\n",
    "\n",
    "Assignment is done with `=` symbol. Unlike other languages, Python declares a variable when you assign it, so you only need one statement."
   ]
  },
  {
   "cell_type": "code",
   "execution_count": null,
   "metadata": {},
   "outputs": [],
   "source": [
    "student_name = \"Tom\"    # assigning a string\n",
    "age = 14                # assigning an integer\n",
    "gpa = 4.5               # assigning a float\n",
    "present = True          # assigning a boolean"
   ]
  }
 ],
 "metadata": {
  "language_info": {
   "name": "python"
  },
  "orig_nbformat": 4
 },
 "nbformat": 4,
 "nbformat_minor": 2
}
