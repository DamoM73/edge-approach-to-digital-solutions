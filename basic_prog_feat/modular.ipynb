{
 "cells": [
  {
   "cell_type": "markdown",
   "metadata": {},
   "source": [
    "# Functions, Modules and Packages\n",
    "Functions, modules and packages are all constructs in Python that promote code modularization.\n",
    "\n",
    "## Functions\n",
    "Functions are normally *defined* with a name, and are *called* from the main program. The code in the function will only run when it is called. When functions are called that can have values *passed* to them from the main program (called *arguments*), and they can also *return* values back to the main program. The general syntax for a function is:\n",
    "\n",
    "```\n",
    "funct function_name(values_passed)\n",
    "    code that is run when the function is called\n",
    "    return value_returned_to_program\n",
    "    \n",
    "# main program\n",
    "value_returned = function_name(values_to_pass)\n",
    "```\n",
    "\n",
    "### In Python\n",
    "\n",
    "Functions are created using the keyword `def`. Below is an example of a function definition and call in Python. Note that the `def` statement needs to have `(` and `)` even if it doesn't have arguments, and it finishes with `:`."
   ]
  },
  {
   "cell_type": "code",
   "execution_count": null,
   "metadata": {},
   "outputs": [],
   "source": [
    "def sum_values(val_a, val_b):\n",
    "    total = val_a + val_b\n",
    "    return total\n",
    "\n",
    "# main program\n",
    "sum_val = sum_values(10,5)\n",
    "print(sum_val)"
   ]
  },
  {
   "cell_type": "markdown",
   "metadata": {},
   "source": [
    "In Python it is possible to have four different types of functions:\n",
    "- A function that accepts arguments and returns values\n",
    "- A function that accepts arguments but doesn't return any values\n",
    "- A function that doesn't accepts arguments and returns values\n",
    "- A function that doesn't accepts arguments nor return any values\n",
    "\n",
    "---\n",
    "## Modules and Packages\n",
    "\n",
    "Modules and packages allow for a hierarchical structuring of the module namespace using dot notation. In the same way that modules help avoid collisions between global variable names, packages help avoid collisions between module names.\n",
    "\n",
    "### In Python\n",
    "\n",
    "In Python, modules are created by writing code in a separate file. To access the code from that file you use the `import` keyword. You would have used this in your previous programming. \n",
    "\n",
    "The code below all three of these concept together, by importing the `randint` function from the modules in the `random` package."
   ]
  },
  {
   "cell_type": "code",
   "execution_count": null,
   "metadata": {},
   "outputs": [],
   "source": [
    "import random\n",
    "\n",
    "print(random.randint(1,10))"
   ]
  }
 ],
 "metadata": {
  "language_info": {
   "name": "python"
  },
  "orig_nbformat": 4
 },
 "nbformat": 4,
 "nbformat_minor": 2
}
