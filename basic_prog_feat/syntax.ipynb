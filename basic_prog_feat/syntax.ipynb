{
 "cells": [
  {
   "cell_type": "markdown",
   "id": "df62ab61-d4ad-45bd-bc93-9bd2b3cabfd9",
   "metadata": {
    "tags": []
   },
   "source": [
    "# Python Syntax \n",
    "\n",
    "We will be using Python for this course, so this section will be looking at Python syntax.\n",
    "\n",
    "## Keywords \n",
    "\n",
    "Python keywords are the standard commands in Python. They are lowercase, and, in most editors, they will be a distinct colour. In the code below `if` and `print` are keywords."
   ]
  },
  {
   "cell_type": "code",
   "execution_count": null,
   "id": "1d92ce33-0612-49fb-9fec-a8a4071d8710",
   "metadata": {},
   "outputs": [],
   "source": [
    "if 5 > 2:\n",
    "    print(\"Five is greater than two\")"
   ]
  },
  {
   "cell_type": "markdown",
   "id": "58917a9f-d91e-4dc0-90f4-a3fde9b5b447",
   "metadata": {},
   "source": [
    "---\n",
    "## Indentation\n",
    "Indentation refers to the spaces at the beginning of a code line. It is a vital part of Python. The indentation indicates blocks of code. \n",
    "\n",
    "The indentation at line 2 and 4 indicates that this code will only run in accordance to the `if` statement condition. \n",
    "\n",
    "The adjacent code at the same indent level is called a block. Below line 2 is one block, and lines 4 & 5 are also one block. "
   ]
  },
  {
   "cell_type": "code",
   "execution_count": null,
   "id": "2c3b09f9-3dae-4953-877c-9f5fca29379a",
   "metadata": {},
   "outputs": [],
   "source": [
    "if 5 > 2:\n",
    "    print(\"Five is greater than two\")\n",
    "else:\n",
    "    print(\"This won't print\")\n",
    "    print(\"Neither will this\")\n",
    "print(\"But this will\")"
   ]
  },
  {
   "cell_type": "markdown",
   "id": "e371b7b9-6a9b-47ba-bfbc-068ed45f8113",
   "metadata": {},
   "source": [
    "Whenever you have commands such as `if`, `elif`, `else`, `for`, `while` or `def` you will need to indent the block of text under it. \n",
    "\n",
    "Run the code below to see what happend if you are missing an indent."
   ]
  },
  {
   "cell_type": "code",
   "execution_count": null,
   "id": "0ae9fa73-aa1c-4729-b5fb-81d8c5bea34a",
   "metadata": {},
   "outputs": [],
   "source": [
    "print(\"Hello\")\n",
    "if 5 > 2:\n",
    "print(\"Five is greater than two\")"
   ]
  },
  {
   "cell_type": "markdown",
   "id": "4949dab3-e2a7-44ed-bf76-91027d412338",
   "metadata": {},
   "source": [
    "Here is our first syntax error. Let's unpack it. \n",
    "\n",
    "Notice the code didn't run (there is no `hello` before the error. This is because, before executing the code, Python goes over it to see if it is syntactically correct. Now let's look at the message itself.\n",
    "\n",
    "The first line has two bits of information:\n",
    "- the python file that contains the error: `File \"C:\\Users\\DamoM\\AppData\\Local\\Temp/ipykernel_5864/2819458222.py\"`\n",
    "- the line where the error was detected: `line 3`\n",
    "\n",
    "The second and third lines show you:\n",
    "- the statement with the error: `   print(\"Five is greater than two\")`\n",
    "- points to the error location: `^`\n",
    "\n",
    "The final line tells you:\n",
    "- the type of error: `IndentationError`\n",
    "- details about the error: `expected an indented block after 'if' statement on line 2`\n",
    "\n",
    "\n",
    "Python doesn't care about how many spaces are in an indent, as long as you are consistent within you block. The accepted number of space is 4 per indent, and most editors will automatically add four spaces if you press `TAB`.\n",
    "\n",
    "Run the code below to see what happens when you are not consistent with indentation."
   ]
  },
  {
   "cell_type": "code",
   "execution_count": null,
   "id": "73c3a531-4c3c-4b35-b1c8-0fe3931ba575",
   "metadata": {},
   "outputs": [],
   "source": [
    "if 5 > 2:\n",
    "    print(\"Five is greater than two\")\n",
    "     print(\"and it always will be\")"
   ]
  },
  {
   "cell_type": "markdown",
   "id": "0dc4d50c-da32-4a58-898f-442e38d539b3",
   "metadata": {},
   "source": [
    "Notice that everything is the same as the last error, except the details line. Python was expecting a four space indent (like the line before) but got a five space indent instead.\n",
    "\n",
    "---\n",
    "## White space\n",
    "Python only cares about spaces at the beginning of lines (indent). It also doesn't care about blank lines. This means that you can use this white space to format your code and make it easier to read. \n",
    "\n",
    "Run the code below to see how white space effects Python."
   ]
  },
  {
   "cell_type": "code",
   "execution_count": null,
   "id": "3aeb16ad-9d32-4b24-bb66-d22e75169dfe",
   "metadata": {},
   "outputs": [],
   "source": [
    "print(5+4)\n",
    "print ( 5 + 4 )\n",
    "\n",
    "print         (         5         +         4         )"
   ]
  },
  {
   "cell_type": "markdown",
   "id": "1ed0582f-ce34-4236-975a-9064a8173a00",
   "metadata": {},
   "source": [
    "\n",
    "---\n",
    "## Comments\n",
    "\n",
    "Comments are an import part of coding. They can be used to structure your code making it easier to find your way around (like headings). More importantly, they can be used to explain your thinking. Since there is always a range of ways to solve any programming problem, it is import to explain your thought processes to the person reading your code. That person may be a collaborator, someone else using your code or even the future you trying to understand what you did six months ago.\n",
    "\n",
    "There are two ways to comment in Python:\n",
    "- the line comment starts with `#`\n",
    "- the multiple line comment starts and ends with `'''` or `\"\"\"` (just use the same one for the start and end).\n",
    "\n",
    "---\n",
    "## Special Characters\n",
    "\n",
    "Some Python statements have special characters. Conditional statements that lead into a block need to end with a `:`. \n",
    "\n",
    "Run to code to see what happens when it is missing."
   ]
  },
  {
   "cell_type": "code",
   "execution_count": null,
   "id": "ddae0dba-b26d-4263-be95-7cf1a1474e70",
   "metadata": {},
   "outputs": [],
   "source": [
    "if 5 > 2\n",
    "    print(\"Five is greater than two\")"
   ]
  },
  {
   "cell_type": "markdown",
   "id": "a699687e-e18f-4381-b964-f5cfcf74bf66",
   "metadata": {},
   "source": [
    "Other keywords, like 'print', require parentheses `(` and `)`. Check the code below."
   ]
  },
  {
   "cell_type": "code",
   "execution_count": null,
   "id": "78a80596-d175-4180-8377-6bdea5aed0ae",
   "metadata": {},
   "outputs": [],
   "source": [
    "if 5 > 2:\n",
    "    print \"Five is greater than two\""
   ]
  },
  {
   "cell_type": "markdown",
   "id": "9a95d06d-adc5-426d-b958-16a7f938530d",
   "metadata": {},
   "source": [
    "Strings need to be surrounded by either `'` or `\"`. It doesn't mate which one, as long as they are the same at the start and end of the string. \n",
    "\n",
    "Run the code below to see how they work."
   ]
  },
  {
   "cell_type": "code",
   "execution_count": null,
   "id": "b34c6db9-cf06-4671-8632-2c0c14f069cb",
   "metadata": {},
   "outputs": [],
   "source": [
    "string_1 = 'This is a string'\n",
    "string_2 = \"This is a string which contains the character ' but that is ok because ' is not used to start or end this string\""
   ]
  },
  {
   "cell_type": "markdown",
   "id": "77c08137-acb2-4b04-98c2-8e19d92e4c52",
   "metadata": {},
   "source": [
    "\n",
    "---\n",
    "## Case Sensitive\n",
    "\n",
    "Python is case sensitive. This means `print` is not the same as `Print` nor `PRINT`.\n",
    "\n",
    "Run the code below to see what happens when you don't use the correct case."
   ]
  },
  {
   "cell_type": "code",
   "execution_count": null,
   "id": "0c2a1412-2c3e-4c5c-ae32-2e142cbd2a3e",
   "metadata": {},
   "outputs": [],
   "source": [
    "Print(\"Hello\")"
   ]
  },
  {
   "cell_type": "markdown",
   "id": "75a20062-c6e0-4a8c-bb4d-5efe705dcbab",
   "metadata": {},
   "source": [
    "\n",
    "---\n",
    "## Variable Names\n",
    "\n",
    "Python has strict naming rules for variables:\n",
    "- A variable name must start with a letter or the underscore character\n",
    "- A variable name cannot start with a number\n",
    "- A variable name can only contain alpha-numeric characters and underscores (A-z, 0-9, and _ )\n",
    "- Variable names are case-sensitive (age, Age and AGE are three different variables)\n",
    "\n",
    "The code below works fine:"
   ]
  },
  {
   "cell_type": "code",
   "execution_count": null,
   "id": "488795c6-4823-47f7-9796-44295c104350",
   "metadata": {},
   "outputs": [],
   "source": [
    "message = \"Hello\"\n",
    "print(message)"
   ]
  },
  {
   "cell_type": "markdown",
   "id": "9a0181c5-0187-4f60-95f3-837d842563a8",
   "metadata": {},
   "source": [
    "but the code below doesn't meet the naming rules:"
   ]
  },
  {
   "cell_type": "code",
   "execution_count": null,
   "id": "585a6781-9dd5-4714-87c7-6540b13d30c0",
   "metadata": {},
   "outputs": [],
   "source": [
    "1message = \"Hello\"\n",
    "print(message)"
   ]
  },
  {
   "cell_type": "markdown",
   "id": "5946d73f-1ea5-4f78-a932-9d3d57e3885a",
   "metadata": {},
   "source": [
    "nor does this code:"
   ]
  },
  {
   "cell_type": "code",
   "execution_count": null,
   "id": "1a77ea5d-e8d1-4882-8878-d424babadc06",
   "metadata": {},
   "outputs": [],
   "source": [
    "mess!age = \"Hello\"\n",
    "print(message)"
   ]
  },
  {
   "cell_type": "markdown",
   "id": "a3ce47c1-cced-4341-b3fb-662938169295",
   "metadata": {},
   "source": [
    "or this:"
   ]
  },
  {
   "cell_type": "code",
   "execution_count": null,
   "id": "3ff7ba74-5180-42a7-957a-374350d712de",
   "metadata": {},
   "outputs": [],
   "source": [
    "WORD = \"Hello\"\n",
    "print(word)"
   ]
  }
 ],
 "metadata": {
  "kernelspec": {
   "display_name": "Python 3 (ipykernel)",
   "language": "python",
   "name": "python3"
  },
  "language_info": {
   "codemirror_mode": {
    "name": "ipython",
    "version": 3
   },
   "file_extension": ".py",
   "mimetype": "text/x-python",
   "name": "python",
   "nbconvert_exporter": "python",
   "pygments_lexer": "ipython3",
   "version": "3.10.1"
  }
 },
 "nbformat": 4,
 "nbformat_minor": 5
}
